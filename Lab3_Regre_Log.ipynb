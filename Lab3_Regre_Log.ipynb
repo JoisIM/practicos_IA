{
  "nbformat": 4,
  "nbformat_minor": 0,
  "metadata": {
    "colab": {
      "provenance": [],
      "mount_file_id": "1kev7FduEiibrAg88NHrhwBVuMze-Kh96",
      "authorship_tag": "ABX9TyM26dwlVQK4aOCoVV4ErAVd",
      "include_colab_link": true
    },
    "kernelspec": {
      "name": "python3",
      "display_name": "Python 3"
    },
    "language_info": {
      "name": "python"
    }
  },
  "cells": [
    {
      "cell_type": "markdown",
      "metadata": {
        "id": "view-in-github",
        "colab_type": "text"
      },
      "source": [
        "<a href=\"https://colab.research.google.com/github/JoisIM/practicos_IA/blob/main/Lab3_Regre_Log.ipynb\" target=\"_parent\"><img src=\"https://colab.research.google.com/assets/colab-badge.svg\" alt=\"Open In Colab\"/></a>"
      ]
    },
    {
      "cell_type": "markdown",
      "source": [
        "EJRCICIO DE REGRESIÓN LOGÍSTICA\n"
      ],
      "metadata": {
        "id": "qcXrSVqRat5q"
      }
    },
    {
      "cell_type": "markdown",
      "source": [],
      "metadata": {
        "id": "74CFc6BQForw"
      }
    },
    {
      "cell_type": "code",
      "execution_count": 2,
      "metadata": {
        "colab": {
          "base_uri": "https://localhost:8080/"
        },
        "id": "fGVz8sYOaeNQ",
        "outputId": "f16e095f-ca2b-41d5-822a-9b149e1a3a43"
      },
      "outputs": [
        {
          "output_type": "stream",
          "name": "stdout",
          "text": [
            "Drive already mounted at /content/drive; to attempt to forcibly remount, call drive.mount(\"/content/drive\", force_remount=True).\n"
          ]
        }
      ],
      "source": [
        "from google.colab import drive\n",
        "drive.mount('/content/drive')"
      ]
    },
    {
      "cell_type": "code",
      "source": [],
      "metadata": {
        "id": "F871OXmTF9kc"
      },
      "execution_count": null,
      "outputs": []
    },
    {
      "cell_type": "code",
      "source": [
        "import os\n",
        "\n",
        "import numpy as np\n",
        "import pandas as pd\n",
        "\n",
        "# Librerias para graficar\n",
        "from matplotlib import pyplot\n",
        "\n",
        "# Modulo de optimización de scipy\n",
        "from scipy import optimize\n",
        "\n",
        "# le dice a matplotlib que incruste gráficos en el cuaderno\n",
        "%matplotlib inline"
      ],
      "metadata": {
        "id": "LE9lRopybTDQ"
      },
      "execution_count": null,
      "outputs": []
    },
    {
      "cell_type": "code",
      "source": [
        "data = pd.read_csv('/content/drive/MyDrive/dataSets/telecom_churn.csv', delimiter=',', skiprows=1)\n",
        "X = data.iloc[:, 0:21]\n",
        "y = data.iloc[:, 21:]\n",
        "m = len(y)\n",
        "\n",
        "# Imprimir X, y, y m\n",
        "print(\"Características (X):\")\n",
        "print(X)\n",
        "\n",
        "print(\"\\nVariable Objetivo (y):\")\n",
        "print(y)\n",
        "\n",
        "print(\"\\nNúmero de ejemplos (m):\", m)"
      ],
      "metadata": {
        "colab": {
          "base_uri": "https://localhost:8080/"
        },
        "id": "_oHB4jG9bpsV",
        "outputId": "07abaeb1-3eb6-4527-8008-81d3b9ccfcea"
      },
      "execution_count": null,
      "outputs": [
        {
          "output_type": "stream",
          "name": "stdout",
          "text": [
            "Características (X):\n",
            "      0  128  1  1.1   2.7  1.2  265.1  110     89   9.87    10\n",
            "0     0  107  1    1  3.70    1  161.6  123   82.0   9.78  13.7\n",
            "1     0  137  1    0  0.00    0  243.4  114   52.0   6.06  12.2\n",
            "2     0   84  0    0  0.00    2  299.4   71   57.0   3.10   6.6\n",
            "3     0   75  0    0  0.00    3  166.7  113   41.0   7.42  10.1\n",
            "4     0  118  0    0  0.00    0  223.4   98   57.0  11.03   6.3\n",
            "...  ..  ... ..  ...   ...  ...    ...  ...    ...    ...   ...\n",
            "3327  0  192  1    1  2.67    2  156.2   77   71.7  10.78   9.9\n",
            "3328  0   68  1    0  0.34    3  231.1   57   56.4   7.67   9.6\n",
            "3329  0   28  1    0  0.00    2  180.8  109   56.0  14.44  14.1\n",
            "3330  0  184  0    0  0.00    2  213.8  105   50.0   7.98   5.0\n",
            "3331  0   74  1    1  3.70    0  234.4  113  100.0  13.30  13.7\n",
            "\n",
            "[3332 rows x 11 columns]\n",
            "\n",
            "Variable Objetivo (y):\n",
            "Empty DataFrame\n",
            "Columns: []\n",
            "Index: [0, 1, 2, 3, 4, 5, 6, 7, 8, 9, 10, 11, 12, 13, 14, 15, 16, 17, 18, 19, 20, 21, 22, 23, 24, 25, 26, 27, 28, 29, 30, 31, 32, 33, 34, 35, 36, 37, 38, 39, 40, 41, 42, 43, 44, 45, 46, 47, 48, 49, 50, 51, 52, 53, 54, 55, 56, 57, 58, 59, 60, 61, 62, 63, 64, 65, 66, 67, 68, 69, 70, 71, 72, 73, 74, 75, 76, 77, 78, 79, 80, 81, 82, 83, 84, 85, 86, 87, 88, 89, 90, 91, 92, 93, 94, 95, 96, 97, 98, 99, ...]\n",
            "\n",
            "[3332 rows x 0 columns]\n",
            "\n",
            "Número de ejemplos (m): 3332\n"
          ]
        }
      ]
    },
    {
      "cell_type": "markdown",
      "source": [
        "1. VISUALIZAR LOS DATOS"
      ],
      "metadata": {
        "id": "XvnGzjcYi9bn"
      }
    },
    {
      "cell_type": "code",
      "source": [
        "# renombrar una columna x a y\n",
        "data = data.rename(columns={'x3': 'y'})"
      ],
      "metadata": {
        "id": "r_gkIGs3kplm"
      },
      "execution_count": null,
      "outputs": []
    },
    {
      "cell_type": "code",
      "source": [
        "def plotData(X, y):\n",
        "    # Gragica los puntos de datos X y y en una nueva figura. Grafica los puntos de datos con * para los positivos y\n",
        "    # o para los negativos.\n",
        "\n",
        "    # Crea una nueva figura\n",
        "    fig = pyplot.figure()\n",
        "\n",
        "    # buscar indices de positivo y negativi\n",
        "    pos = y == 1\n",
        "    neg = y == 0\n",
        "\n",
        "    X_array = X.values\n",
        "    y_array = y.values.ravel()\n",
        "\n",
        "    # Plot Examples\n",
        "    pyplot.plot(X_array[y_array == 1, 0], X_array[y_array == 1, 1], 'k*', lw=2, ms=10)\n",
        "    pyplot.plot(X_array[y_array == 0, 0], X_array[y_array == 0, 1], 'ko', mfc='y', ms=8, mec='k', mew=1)"
      ],
      "metadata": {
        "id": "b0h8HkaChTR3"
      },
      "execution_count": null,
      "outputs": []
    },
    {
      "cell_type": "code",
      "source": [
        "plotData(X, y)\n",
        "# adiciona etiquetas para los ejes\n",
        "pyplot.xlabel('contrato renovado')\n",
        "pyplot.ylabel('contrato no renovado ')\n",
        "pyplot.legend(['renovado', 'no renovado'])\n",
        "pass"
      ],
      "metadata": {
        "colab": {
          "base_uri": "https://localhost:8080/",
          "height": 449
        },
        "id": "YOwsavFWhcd-",
        "outputId": "5d75daac-40c6-4b1d-b030-90f48ec929cb"
      },
      "execution_count": null,
      "outputs": [
        {
          "output_type": "display_data",
          "data": {
            "text/plain": [
              "<Figure size 640x480 with 1 Axes>"
            ],
            "image/png": "[encoded data removed]"
          },
          "metadata": {}
        }
      ]
    }
  ]
}
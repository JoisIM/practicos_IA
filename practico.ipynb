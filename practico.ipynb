{
 "cells": [
  {
   "cell_type": "code",
   "execution_count": null,
   "metadata": {},
   "outputs": [],
   "source": [
    "import numpy as np\n",
    "import pandas as pd\n",
    "import matplotlib.pyplot as plt"
   ]
  },
  {
   "cell_type": "code",
   "execution_count": null,
   "metadata": {},
   "outputs": [],
   "source": [
    "def generar_datos(num_ejemplos):\n",
    "    estaturas = []\n",
    "    pesos = []\n",
    "    \n",
    "    for _ in range(num_ejemplos):\n",
    "        estatura = np.random.uniform(1.50, 2.00)  # Estatura en metros entre 1.50 y 2.00\n",
    "        peso = np.random.uniform(50, 100)  # Peso en kg entre 50 y 100\n",
    "        \n",
    "        if estatura < 1.60:\n",
    "            peso = np.random.uniform(50, 70)\n",
    "        elif estatura > 1.90:\n",
    "            peso = np.random.uniform(80, 100)\n",
    "        \n",
    "        estaturas.append(estatura)\n",
    "        pesos.append(peso)\n",
    "    \n",
    "    return pd.DataFrame({'Estatura': estaturas, 'Peso': pesos})\n",
    "data = generar_datos(100)\n",
    "data.head()"
   ]
  }
 ],
 "metadata": {
  "language_info": {
   "name": "python"
  }
 },
 "nbformat": 4,
 "nbformat_minor": 2
}

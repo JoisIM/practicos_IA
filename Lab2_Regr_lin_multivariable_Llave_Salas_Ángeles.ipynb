{
  "nbformat": 4,
  "nbformat_minor": 0,
  "metadata": {
    "colab": {
      "provenance": [],
      "authorship_tag": "ABX9TyOxiVZ1rpaQKv8IXHZC4E9S",
      "include_colab_link": true
    },
    "kernelspec": {
      "name": "python3",
      "display_name": "Python 3"
    },
    "language_info": {
      "name": "python"
    }
  },
  "cells": [
    {
      "cell_type": "markdown",
      "metadata": {
        "id": "view-in-github",
        "colab_type": "text"
      },
      "source": [
        "<a href=\"https://colab.research.google.com/github/JoisIM/practicos_IA/blob/main/Lab2_Regr_lin_multivariable_Llave_Salas_%C3%81ngeles.ipynb\" target=\"_parent\"><img src=\"https://colab.research.google.com/assets/colab-badge.svg\" alt=\"Open In Colab\"/></a>"
      ]
    },
    {
      "cell_type": "markdown",
      "source": [
        "LABORATORIO #2: Reresión Linela Multivariable  \n",
        "Llave Salas Ángeles Joana\n"
      ],
      "metadata": {
        "id": "5fSTpJaQ8UlJ"
      }
    },
    {
      "cell_type": "code",
      "execution_count": 1,
      "metadata": {
        "id": "IjFrg-iL68P0"
      },
      "outputs": [],
      "source": [
        "import os\n",
        "\n",
        "# Computacion vectorial y cientifica para python\n",
        "import numpy as np\n",
        "import pandas as pd\n",
        "\n",
        "# Librerias para graficación (trazado de gráficos)\n",
        "from matplotlib import pyplot\n",
        "from mpl_toolkits.mplot3d import Axes3D  # Para graficar en 3D\n",
        "\n",
        "# llama a matplotlib a embeber graficas dentro de los cuadernillos\n",
        "%matplotlib inline"
      ]
    },
    {
      "cell_type": "code",
      "source": [
        "from google.colab import drive\n",
        "drive.mount(\"/content/gdrive\")"
      ],
      "metadata": {
        "colab": {
          "base_uri": "https://localhost:8080/"
        },
        "id": "9UWKx60R8TPi",
        "outputId": "5b16596d-67ad-4d38-97d5-c026bf0c177c"
      },
      "execution_count": 19,
      "outputs": [
        {
          "output_type": "stream",
          "name": "stdout",
          "text": [
            "Drive already mounted at /content/gdrive; to attempt to forcibly remount, call drive.mount(\"/content/gdrive\", force_remount=True).\n"
          ]
        }
      ]
    },
    {
      "cell_type": "markdown",
      "source": [
        "2- REGRESIÓN LINEAL CON MULTIVARIABLES\n",
        "A continuación se implemente resgresión lineal multivariable para predecir de que manera se puede mantener el peso. La primera columna es la de edad, la segunda es el peso en kilogramos, la tercera es la altura en metros, la cuarta es la de genero, la quinta es IMC es decir es el índice de masa corporal, la sexta es BMR es la tasa metabólica basál, la séptima es nivel de actividades, la octava es calorías para mantener el peso, la novena es etiqueta de y la última es el peso mantenido."
      ],
      "metadata": {
        "id": "wJZscYX_KBG7"
      }
    },
    {
      "cell_type": "markdown",
      "source": [
        "2.1. NORMALIZACIÓN DE MULTIVARIABLES"
      ],
      "metadata": {
        "id": "VnNQpN-8Nhs0"
      }
    },
    {
      "cell_type": "code",
      "source": [
        "import numpy as np\n",
        "import pandas as pd\n",
        "\n",
        "# Cargar los datos desde el archivo CSV y saltarse la primera columna\n",
        "data = pd.read_csv('/content/gdrive/MyDrive/dataSets/diet_plan.csv', delimiter=',', skiprows=1)\n",
        "\n",
        "X = data.iloc[:, :10]  # Select all rows and columns up to the 9th\n",
        "y = data.iloc[:, 10]   # Select all rows and the 10th column\n",
        "m = y.size"
      ],
      "metadata": {
        "id": "ezQrjCdORpo9"
      },
      "execution_count": 25,
      "outputs": []
    },
    {
      "cell_type": "code",
      "source": [
        "X.shape"
      ],
      "metadata": {
        "colab": {
          "base_uri": "https://localhost:8080/"
        },
        "id": "mn6QxcjWUtIf",
        "outputId": "99390041-1ebb-4d45-ce20-41f8a4a5bad6"
      },
      "execution_count": 26,
      "outputs": [
        {
          "output_type": "execute_result",
          "data": {
            "text/plain": [
              "(10725, 10)"
            ]
          },
          "metadata": {},
          "execution_count": 26
        }
      ]
    },
    {
      "cell_type": "code",
      "source": [
        "def  featureNormalize(X):\n",
        "    X_norm = X.copy()\n",
        "    mu = np.zeros(X.shape[1])\n",
        "    sigma = np.zeros(X.shape[1])\n",
        "\n",
        "    mu = np.mean(X, axis = 0)\n",
        "    sigma = np.std(X, axis = 0)\n",
        "    X_norm = (X - mu) / sigma\n",
        "\n",
        "    return X_norm, mu, sigma"
      ],
      "metadata": {
        "id": "-aHd9RwvVFaw"
      },
      "execution_count": 27,
      "outputs": []
    },
    {
      "cell_type": "code",
      "source": [
        "# llama featureNormalize con los datos cargados\n",
        "X_norm, mu, sigma = featureNormalize(X)\n",
        "\n",
        "print(X)\n",
        "print('Media calculada:', mu)\n",
        "print('Desviación estandar calculada:', sigma)\n",
        "print(X_norm)"
      ],
      "metadata": {
        "colab": {
          "base_uri": "https://localhost:8080/"
        },
        "id": "9R2RDpABVTXH",
        "outputId": "bcbf495e-8ef8-44ec-fb68-7e90d8e0ca9c"
      },
      "execution_count": 30,
      "outputs": [
        {
          "output_type": "stream",
          "name": "stdout",
          "text": [
            "           1   2  16.09786214997295  0.9320248764873583  F  \\\n",
            "0          2   4          14.619374            0.916687  F   \n",
            "1          4   4          17.899918            0.997288  F   \n",
            "2          6   3          13.532880            1.022786  F   \n",
            "3          8   4          17.039484            1.053977  M   \n",
            "4         10   3          12.032662            1.078630  F   \n",
            "...      ...  ..                ...                 ... ..   \n",
            "10720  23986  72          95.444236            1.631113  F   \n",
            "10721  23988  85          97.976899            1.631409  F   \n",
            "10722  23994  50          97.761259            1.631864  F   \n",
            "10723  23997  57          96.829324            1.631290  F   \n",
            "10724  23998  63          97.615186            1.633168  M   \n",
            "\n",
            "       18.531611873353047   958.584  1.2  1150.3008  8  \n",
            "0               17.397496   932.383  1.7  1585.0511  7  \n",
            "1               17.997414   977.578  1.9  1857.3982  7  \n",
            "2               12.936609   944.689  1.9  1794.9091  7  \n",
            "3               15.338909   799.229  1.9  1518.5351  7  \n",
            "4               10.342285   939.781  1.9  1785.5839  7  \n",
            "...                   ...       ...  ...        ... ..  \n",
            "10720           35.874169  1510.154  1.3  1963.2002  9  \n",
            "10721           36.812724  1473.418  1.7  2504.8106  9  \n",
            "10722           36.711217  1635.925  1.7  2781.0725  9  \n",
            "10723           36.386871  1593.981  1.3  2072.1753  9  \n",
            "10724           36.597850  1791.512  1.2  2149.8144  9  \n",
            "\n",
            "[10725 rows x 10 columns]\n",
            "Media calculada: 1                     11665.840653\n",
            "2                        26.780886\n",
            "16.09786214997295        61.651975\n",
            "0.9320248764873583        1.540333\n",
            "F                              NaN\n",
            "18.531611873353047       24.788900\n",
            "958.584                1442.095001\n",
            "1.2                       1.487478\n",
            "1150.3008              2118.664357\n",
            "8                         8.253520\n",
            "dtype: float64\n",
            "Desviación estandar calculada: 1                     6813.752359\n",
            "2                       18.200103\n",
            "16.09786214997295       24.250578\n",
            "0.9320248764873583       0.185949\n",
            "F                             NaN\n",
            "18.531611873353047       6.954375\n",
            "958.584                250.642690\n",
            "1.2                      0.239609\n",
            "1150.3008              388.312872\n",
            "8                        0.754763\n",
            "dtype: float64\n",
            "              1         2  16.09786214997295  0.9320248764873583   F  \\\n",
            "0     -1.711809 -1.251690          -1.939443           -3.353848 NaN   \n",
            "1     -1.711515 -1.251690          -1.804166           -2.920392 NaN   \n",
            "2     -1.711222 -1.306635          -1.984245           -2.783265 NaN   \n",
            "3     -1.710928 -1.251690          -1.839647           -2.615530 NaN   \n",
            "4     -1.710635 -1.306635          -2.046109           -2.482947 NaN   \n",
            "...         ...       ...                ...                 ...  ..   \n",
            "10720  1.808131  2.484553           1.393462            0.488197 NaN   \n",
            "10721  1.808425  3.198834           1.497899            0.489792 NaN   \n",
            "10722  1.809305  1.275768           1.489007            0.492240 NaN   \n",
            "10723  1.809746  1.660382           1.450578            0.489150 NaN   \n",
            "10724  1.809893  1.990050           1.482984            0.499252 NaN   \n",
            "\n",
            "       18.531611873353047   958.584       1.2  1150.3008         8  \n",
            "0               -1.062842 -2.033620  0.886954  -1.374184 -1.660813  \n",
            "1               -0.976578 -1.853304  1.721648  -0.672824 -1.660813  \n",
            "2               -1.704293 -1.984522  1.721648  -0.833748 -1.660813  \n",
            "3               -1.358856 -2.564870  1.721648  -1.545479 -1.660813  \n",
            "4               -2.077342 -2.004104  1.721648  -0.857763 -1.660813  \n",
            "...                   ...       ...       ...        ...       ...  \n",
            "10720            1.593999  0.271538 -0.782433  -0.400358  0.989026  \n",
            "10721            1.728958  0.124971  0.886954   0.994420  0.989026  \n",
            "10722            1.714362  0.773332  0.886954   1.705862  0.989026  \n",
            "10723            1.667723  0.605986 -0.782433  -0.119721  0.989026  \n",
            "10724            1.698061  1.394084 -1.199780   0.080219  0.989026  \n",
            "\n",
            "[10725 rows x 10 columns]\n"
          ]
        }
      ]
    },
    {
      "source": [
        "import numpy as np\n",
        "import pandas as pd\n",
        "\n",
        "def featureNormalize(X):\n",
        "    X_norm = X.copy()\n",
        "    mu = np.zeros(X.shape[1])\n",
        "    sigma = np.zeros(X.shape[1])\n",
        "\n",
        "    # Convert all columns of X to numeric, coercing errors to NaN\n",
        "    X_norm = X_norm.apply(pd.to_numeric, errors='coerce')\n",
        "\n",
        "    mu = np.mean(X_norm, axis=0) # Calculate mean on numeric data\n",
        "    sigma = np.std(X_norm, axis=0)\n",
        "    X_norm = (X_norm - mu) / sigma\n",
        "\n",
        "    return X_norm, mu, sigma"
      ],
      "cell_type": "code",
      "metadata": {
        "id": "MzwJBvloVe1H"
      },
      "execution_count": 31,
      "outputs": []
    },
    {
      "cell_type": "code",
      "source": [
        "X = np.concatenate([np.ones((m, 1)), X_norm], axis=1)"
      ],
      "metadata": {
        "id": "RbHoq-bjV_Rl"
      },
      "execution_count": 32,
      "outputs": []
    },
    {
      "cell_type": "code",
      "source": [
        "print(X)"
      ],
      "metadata": {
        "colab": {
          "base_uri": "https://localhost:8080/"
        },
        "id": "8Xgb-wWGWC-A",
        "outputId": "785b9301-52fe-492b-99cb-5a5030436e95"
      },
      "execution_count": 33,
      "outputs": [
        {
          "output_type": "stream",
          "name": "stdout",
          "text": [
            "[[ 1.         -1.71180871 -1.25168996 ...  0.88695429 -1.3741838\n",
            "  -1.66081261]\n",
            " [ 1.         -1.71151519 -1.25168996 ...  1.72164781 -0.67282384\n",
            "  -1.66081261]\n",
            " [ 1.         -1.71122166 -1.3066347  ...  1.72164781 -0.83374845\n",
            "  -1.66081261]\n",
            " ...\n",
            " [ 1.          1.80930546  1.27576831 ...  0.88695429  1.70586192\n",
            "   0.98902602]\n",
            " [ 1.          1.80974575  1.66038152 ... -0.78243276 -0.11972062\n",
            "   0.98902602]\n",
            " [ 1.          1.80989251  1.99004999 ... -1.19977952  0.08021893\n",
            "   0.98902602]]\n"
          ]
        }
      ]
    },
    {
      "cell_type": "markdown",
      "source": [
        "2. Descenso por la gradiente\n",
        "Empleamos la formula:\n",
        "\n",
        "$$ J(\\theta) = \\frac{1}{2m}(X\\theta - \\vec{y})^T(X\\theta - \\vec{y}) $$\n",
        "\n",
        "donde:\n",
        "\n",
        "$$ X = \\begin{pmatrix}\n",
        "          - (x^{(1)})^T - \\\\\n",
        "          - (x^{(2)})^T - \\\\\n",
        "          \\vdots \\\\\n",
        "          - (x^{(m)})^T - \\\\ \\\\\n",
        "        \\end{pmatrix} \\qquad \\mathbf{y} = \\begin{bmatrix} y^{(1)} \\\\ y^{(2)} \\\\ \\vdots \\\\ y^{(m)} \\\\\\end{bmatrix}$$\n"
      ],
      "metadata": {
        "id": "5rSNtZWFWQ9m"
      }
    },
    {
      "cell_type": "code",
      "source": [
        "def computeCostMulti(X, y, theta):\n",
        "    # Inicializa algunos valores utiles\n",
        "    m = y.shape[0] # numero de ejemplos de entrenamiento\n",
        "\n",
        "    J = 0\n",
        "\n",
        "    h = np.dot(X, theta)\n",
        "\n",
        "    J = (1/(2 * m)) * np.sum(np.square(np.dot(X, theta) - y))\n",
        "\n",
        "    return J"
      ],
      "metadata": {
        "id": "tv-WykaxWCuk"
      },
      "execution_count": 34,
      "outputs": []
    },
    {
      "cell_type": "code",
      "source": [
        "def gradientDescentMulti(X, y, theta, alpha, num_iters):\n",
        "\n",
        "    # Inicializa algunos valores\n",
        "    m = y.shape[0] # numero de ejemplos de entrenamiento\n",
        "\n",
        "    # realiza una copia de theta, el cual será acutalizada por el descenso por el gradiente\n",
        "    theta = theta.copy()\n",
        "\n",
        "    J_history = []\n",
        "\n",
        "    for i in range(num_iters):\n",
        "        theta = theta - (alpha / m) * (np.dot(X, theta) - y).dot(X)\n",
        "        J_history.append(computeCostMulti(X, y, theta))\n",
        "\n",
        "    return theta, J_history"
      ],
      "metadata": {
        "id": "mkbtsj7FWbUB"
      },
      "execution_count": 35,
      "outputs": []
    },
    {
      "cell_type": "markdown",
      "source": [
        "3. Seleccionar coeficiente de aprendizaje"
      ],
      "metadata": {
        "id": "fz4H51FqXxA-"
      }
    },
    {
      "cell_type": "code",
      "source": [
        "alpha = 0.003 # alpha = 0.003\n",
        "num_iters = 10000\n",
        "\n",
        "# inicializa theta y ejecuta el descenso por el gradiente\n",
        "theta = np.zeros(11)\n",
        "theta, J_history = gradientDescentMulti(X, y, theta, alpha, num_iters)\n",
        "\n",
        "# Grafica la convergencia del costo\n",
        "pyplot.plot(np.arange(len(J_history)), J_history, lw=2)\n",
        "pyplot.xlabel('Numero de iteraciones')\n",
        "pyplot.ylabel('Costo J')\n",
        "\n",
        "# Muestra los resultados del descenso por el gradiente\n",
        "print('theta calculado por el descenso por el gradiente: {:s}'.format(str(theta)))\n",
        "\n"
      ],
      "metadata": {
        "colab": {
          "base_uri": "https://localhost:8080/",
          "height": 486
        },
        "id": "yI0RLlsVbajz",
        "outputId": "5806422a-aa87-4b4b-c67a-b26c05a72cd5"
      },
      "execution_count": 53,
      "outputs": [
        {
          "output_type": "stream",
          "name": "stdout",
          "text": [
            "theta calculado por el descenso por el gradiente: [nan nan nan nan nan nan nan nan nan nan nan]\n"
          ]
        },
        {
          "output_type": "display_data",
          "data": {
            "text/plain": [
              "<Figure size 640x480 with 1 Axes>"
            ],
            "image/png": "[encoded data removed]"
          },
          "metadata": {}
        }
      ]
    },
    {
      "cell_type": "code",
      "source": [
        "#  nuevo ejemplo para predecir basado en características\n",
        "X_array = [ 1, 2000, 70, 50, 100, 30, 5, 60, 80, 200, 5]\n",
        "\n",
        "\n",
        "X_array[1:11] = (X_array[1:11] - mu) / sigma\n",
        "predicted_value = np.dot(X_array, theta)\n",
        "\n",
        "print('El valor predecido para el nuevo conjunto de características es: {:.2f}'.format(predicted_value))"
      ],
      "metadata": {
        "colab": {
          "base_uri": "https://localhost:8080/"
        },
        "id": "cJWZOuE9dlIs",
        "outputId": "05f691e4-a554-4b2b-a9ec-93fb5a668bcf"
      },
      "execution_count": 61,
      "outputs": [
        {
          "output_type": "stream",
          "name": "stdout",
          "text": [
            "El valor predecido para el nuevo conjunto de características es: nan\n"
          ]
        }
      ]
    }
  ]
}